{
 "cells": [
  {
   "cell_type": "code",
   "execution_count": 134,
   "metadata": {},
   "outputs": [],
   "source": [
    "def isEven(x):\n",
    "    if(x%2==0):\n",
    "        return True\n",
    "    else:\n",
    "        return False\n",
    "def Prime_Or_Composite(x):\n",
    "    divisor=2\n",
    "    if(x<=1):\n",
    "        return 'Composite'\n",
    "    while((not((x% divisor==0)))and(divisor<x)):\n",
    "        divisor+=1\n",
    "    if(divisor<x):\n",
    "        return 'Composite'\n",
    "    else:\n",
    "        return 'Prime'\n",
    "        "
   ]
  },
  {
   "cell_type": "code",
   "execution_count": 54,
   "metadata": {},
   "outputs": [
    {
     "name": "stdout",
     "output_type": "stream",
     "text": [
      "Enter number \n"
     ]
    }
   ],
   "source": [
    "name=input('Enter your name: ')\n",
    "fav_num=[]\n",
    "ranking=['first','second','third']\n",
    "for x in ranking:\n",
    "    decesion=False\n",
    "    while(decesion==False):\n",
    "        num=(input(f'Enter your {x} fav number'))\n",
    "        if(num.isdigit()):\n",
    "            num=int(num)\n",
    "            decesion=True\n",
    "        else:\n",
    "            print('Enter number ')\n",
    "    fav_num.append(num)"
   ]
  },
  {
   "cell_type": "code",
   "execution_count": 55,
   "metadata": {},
   "outputs": [],
   "source": [
    "Even_or_Odd=[(x,'Even' if(isEven(x)) else'Odd') for x in fav_num]"
   ]
  },
  {
   "cell_type": "code",
   "execution_count": 137,
   "metadata": {},
   "outputs": [
    {
     "name": "stdout",
     "output_type": "stream",
     "text": [
      "Hey raahim lets explore your fav numbers:\n",
      "The number 1 is Odd\n",
      "The number 5 is Odd\n",
      "The number 4 is Even\n",
      "The square of 1 is 1\n",
      "The square of 5 is 25\n",
      "The square of 4 is 16\n",
      "Sum of your fav num is 10 \n",
      "Wow! 10 is a Composite Number\n"
     ]
    }
   ],
   "source": [
    "Sum=0\n",
    "print(f'Hey {name} lets explore your fav numbers:')\n",
    "for n,x in Even_or_Odd:\n",
    "    print(f'The number {n} is {x}')\n",
    "for x in fav_num:\n",
    "    print(f'The square of {x} is {x**2}')\n",
    "    Sum+=x\n",
    "print(f'Sum of your fav num is {Sum} \\nWow! {Sum} is a {Prime_Or_Composite(Sum)} Number')"
   ]
  }
 ],
 "metadata": {
  "kernelspec": {
   "display_name": "Python 3",
   "language": "python",
   "name": "python3"
  },
  "language_info": {
   "codemirror_mode": {
    "name": "ipython",
    "version": 3
   },
   "file_extension": ".py",
   "mimetype": "text/x-python",
   "name": "python",
   "nbconvert_exporter": "python",
   "pygments_lexer": "ipython3",
   "version": "3.11.5"
  }
 },
 "nbformat": 4,
 "nbformat_minor": 2
}
