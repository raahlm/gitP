{
 "cells": [
  {
   "cell_type": "markdown",
   "metadata": {},
   "source": [
    "Ex 3-1"
   ]
  },
  {
   "cell_type": "code",
   "execution_count": 2,
   "metadata": {},
   "outputs": [
    {
     "name": "stdout",
     "output_type": "stream",
     "text": [
      "test\n",
      "['fatima', 'raahim', 'usman', 'arham']\n"
     ]
    }
   ],
   "source": [
    "names=['fatima','raahim','usman','arham']\n",
    "print('test')\n",
    "print(names)"
   ]
  },
  {
   "cell_type": "markdown",
   "metadata": {},
   "source": [
    "Ex 3-2"
   ]
  },
  {
   "cell_type": "code",
   "execution_count": null,
   "metadata": {},
   "outputs": [
    {
     "name": "stdout",
     "output_type": "stream",
     "text": [
      "hi how are you fatima\n",
      "hi how are you raahim\n",
      "hi how are you usman\n",
      "hi how are you arham\n"
     ]
    }
   ],
   "source": [
    "for x in names:\n",
    "    print(f\"hi how are you {x}\")"
   ]
  },
  {
   "cell_type": "markdown",
   "metadata": {},
   "source": [
    "Ex 3-3 "
   ]
  },
  {
   "cell_type": "code",
   "execution_count": null,
   "metadata": {},
   "outputs": [
    {
     "name": "stdout",
     "output_type": "stream",
     "text": [
      "My fav brand is most prolly Aston Martin\n",
      "but Bentley is a close second\n",
      "and honestly i dont understand why Tesla gets so much hate\n"
     ]
    }
   ],
   "source": [
    "cars=['Aston Martin','Bentley','Tesla']\n",
    "msg={cars[0]:f'My fav brand is most prolly {cars[0]}',\n",
    "     cars[1]:f'but {cars[1]} is a close second',\n",
    "     cars[2]:f'and honestly i dont understand why {cars[2]} gets so much hate'\n",
    "     }\n",
    "for i in cars:\n",
    "    print(msg[i])\n",
    "\n"
   ]
  },
  {
   "cell_type": "markdown",
   "metadata": {},
   "source": [
    "Ex 3-4"
   ]
  },
  {
   "cell_type": "code",
   "execution_count": null,
   "metadata": {},
   "outputs": [
    {
     "name": "stdout",
     "output_type": "stream",
     "text": [
      "Respected Martin luther king id like to invite you to a dinner at my place\n",
      "Respected Warren Buffet id like to invite you to a dinner at my place\n",
      "Respected Steve Jobs id like to invite you to a dinner at my place\n"
     ]
    }
   ],
   "source": [
    "ppl=['Martin luther king','Warren Buffet','Steve Jobs']\n",
    "for x in range(len(ppl)):\n",
    "    print(f'Respected {ppl[x]} id like to invite you to a dinner at my place' )"
   ]
  },
  {
   "cell_type": "markdown",
   "metadata": {},
   "source": [
    "Ex 3-5"
   ]
  },
  {
   "cell_type": "code",
   "execution_count": null,
   "metadata": {},
   "outputs": [
    {
     "name": "stdout",
     "output_type": "stream",
     "text": [
      "False\n",
      "Martin luther king is not coming\n",
      "Respected raahim id like to invite you to a dinner at my place\n",
      "Steve Jobs is not coming\n",
      "Respected fatima id like to invite you to a dinner at my place\n",
      "raahim is not coming\n",
      "Respected raheen id like to invite you to a dinner at my place\n",
      "\n",
      "\n",
      "raheen is coming\n",
      "Warren Buffet is coming\n",
      "fatima is coming\n"
     ]
    }
   ],
   "source": [
    "arriving:bool={ppl[0]:True,ppl[1]:True,ppl[2]:True}\n",
    "conclusion:bool=True\n",
    "for x in ppl:\n",
    "    option=int(input(f\"Is {x} coming? for yes enter 1 for no 0\"))\n",
    "    arriving[x]=(option==1)\n",
    "    conclusion=conclusion & arriving[x]\n",
    "print(conclusion)\n",
    "while not conclusion:\n",
    "    for x in range(len(ppl)):\n",
    "        person=ppl[x]\n",
    "        if(not arriving[person]):\n",
    "            print(f\"{ppl[x]} is not coming\")\n",
    "            new=input(f\"instead of {ppl[x]} sending invite to: \").strip()\n",
    "            print(f'Respected {new} id like to invite you to a dinner at my place' )\n",
    "            ppl[x]=new\n",
    "            arriving[new]=False\n",
    "            option=int(input(f\"Is {new} coming? for yes enter 1 for no 0\"))\n",
    "            arriving[new]=(option==1)\n",
    "        conclusion=arriving[ppl[0]] & arriving[ppl[1]] & arriving[ppl[2]]\n",
    "print('\\n')\n",
    "for x in range(len(ppl)):\n",
    "    print(f'{ppl[x]} is coming' )\n",
    "\n",
    "    "
   ]
  },
  {
   "cell_type": "markdown",
   "metadata": {},
   "source": [
    "Ex 3-6"
   ]
  },
  {
   "cell_type": "code",
   "execution_count": null,
   "metadata": {},
   "outputs": [
    {
     "name": "stdout",
     "output_type": "stream",
     "text": [
      "['oio', 'hehe', 'raheen', 'Warren Buffet', 'fatima', 'sup', 'up']\n"
     ]
    }
   ],
   "source": [
    "no_of_extra_ppl=int(input('Add no of additional guests: '))\n",
    "\n",
    "for x in range(no_of_extra_ppl):\n",
    "    done=False\n",
    "    while (not done):\n",
    "        name=input(f'Enter the name of guest # {x+1}').strip()\n",
    "        placement=int(input('where do you want them to sit?\\n 1:starting \\n2:middle \\n3:end'))\n",
    "        if(placement==1):\n",
    "            ppl.insert(0,name)\n",
    "            done=True\n",
    "        elif(placement==2):\n",
    "            ppl.insert((len(ppl)+no_of_extra_ppl)//2,name)\n",
    "            done=True\n",
    "        elif(placement==3):\n",
    "            ppl.append(name)\n",
    "            done=True\n",
    "        else:\n",
    "            print('option not supported')\n",
    "\n",
    "print(ppl)"
   ]
  },
  {
   "cell_type": "markdown",
   "metadata": {},
   "source": [
    "Ex 3-7"
   ]
  },
  {
   "cell_type": "code",
   "execution_count": null,
   "metadata": {},
   "outputs": [
    {
     "name": "stdout",
     "output_type": "stream",
     "text": [
      "You can only invite 2 people\n",
      "['Martin luther king', 'Warren Buffet', 'Steve Jobs']\n",
      "sorry Steve Jobs but i cant invite you to the dinner \n",
      "you still have to remove 0\n",
      "Respected Martin luther king you are still invited\n",
      "Respected Warren Buffet you are still invited\n",
      "List deleted\n"
     ]
    }
   ],
   "source": [
    "\n",
    "print('You can only invite 2 people')\n",
    "print(ppl)\n",
    "no_of_ppl_to_remove=len(ppl)-2\n",
    "while len(ppl)>2:\n",
    "        person_to_remove=input('Who do you wanna remove?')\n",
    "        if person_to_remove in ppl:\n",
    "            index=ppl.index(person_to_remove)\n",
    "            removed=ppl.pop(index)\n",
    "            no_of_ppl_to_remove-=1\n",
    "            print(f\"sorry {removed} but i cant invite you to the dinner \\nyou still have to remove {no_of_ppl_to_remove}\")\n",
    "\n",
    "        else:\n",
    "            print(f'{person_to_remove} is not in the list.')\n",
    "for x in range(len(ppl)):\n",
    "    print(f'Respected {ppl[x]} you are still invited' )\n",
    "del ppl\n",
    "print('List deleted')\n"
   ]
  },
  {
   "cell_type": "markdown",
   "metadata": {},
   "source": [
    "Ex 3-8"
   ]
  },
  {
   "cell_type": "code",
   "execution_count": null,
   "metadata": {},
   "outputs": [
    {
     "name": "stdout",
     "output_type": "stream",
     "text": [
      "Original List:\n",
      " ['Tokyo', 'Seoul', 'Shibuya', 'Normandy', 'Venice']\n",
      "\n",
      "A to Z sorted list:\n",
      " ['Normandy', 'Seoul', 'Shibuya', 'Tokyo', 'Venice']\n",
      "\n",
      "Original List (after sorting):\n",
      " ['Tokyo', 'Seoul', 'Shibuya', 'Normandy', 'Venice']\n",
      "\n",
      "Z to A sorted list:\n",
      " ['Venice', 'Tokyo', 'Shibuya', 'Seoul', 'Normandy']\n",
      "\n",
      "Original List (after sorting):\n",
      " ['Tokyo', 'Seoul', 'Shibuya', 'Normandy', 'Venice']\n",
      "\n",
      "Original List (reversed):\n",
      " ['Venice', 'Normandy', 'Shibuya', 'Seoul', 'Tokyo']\n",
      "\n",
      "Original List (reversed again):\n",
      " ['Tokyo', 'Seoul', 'Shibuya', 'Normandy', 'Venice']\n",
      "\n",
      "Original List (sorted A-Z):\n",
      " ['Normandy', 'Seoul', 'Shibuya', 'Tokyo', 'Venice']\n",
      "\n",
      "Original List (sorted Z-A):\n",
      " ['Venice', 'Tokyo', 'Shibuya', 'Seoul', 'Normandy']\n"
     ]
    }
   ],
   "source": [
    "places=['Tokyo','Seoul','Shibuya','Normandy','Venice']\n",
    "print('Original List:\\n',places)\n",
    "sorted_AZ=sorted(places)\n",
    "print('\\nA to Z sorted list:\\n',sorted_AZ)\n",
    "print('\\nOriginal List (after sorting):\\n',places)\n",
    "sorted_ZA=sorted(places,reverse=1)\n",
    "print('\\nZ to A sorted list:\\n',sorted_ZA)\n",
    "print('\\nOriginal List (after sorting):\\n',places)\n",
    "places.reverse()\n",
    "print('\\nOriginal List (reversed):\\n',places)\n",
    "places.reverse()\n",
    "print('\\nOriginal List (reversed again):\\n',places)\n",
    "places.sort()\n",
    "print('\\nOriginal List (sorted A-Z):\\n',places)\n",
    "places.sort(reverse=1)\n",
    "print('\\nOriginal List (sorted Z-A):\\n',places)\n"
   ]
  },
  {
   "cell_type": "markdown",
   "metadata": {},
   "source": [
    "Ex 3-9"
   ]
  },
  {
   "cell_type": "code",
   "execution_count": null,
   "metadata": {},
   "outputs": [
    {
     "name": "stdout",
     "output_type": "stream",
     "text": [
      "First Function ['cities', 'countries', 'languages', 'mountains', 'rivers']\n",
      "Second Function ['cities', 'countries', 'languages', 'mountains', 'rivers', 'rivers']\n",
      "Third Function ['cities', 'countries', 'languages', 'mountains', 'rivers', 'rivers']\n",
      "Fourth Function 2\n",
      "Fifth Function ['cities', 'countries', 'languages', 'mountains', 'rivers', 'rivers', 'somthing', 'anything']\n",
      "Sixth Function 4\n",
      "Seventh Function ['cities', 'countries', 'languages', 'mountains', 'rivers', 'rivers', 'rivers', 'somthing', 'anything']\n",
      "Eighth Function ['cities', 'countries', 'languages', 'mountains', 'rivers', 'rivers', 'somthing', 'anything'] rivers\n",
      "Ninth Function ['cities', 'countries', 'languages', 'mountains', 'rivers', 'somthing', 'anything']\n",
      "Tenth Function 136\n",
      "Eleventh Function 7\n",
      "Twelfth Function []\n"
     ]
    }
   ],
   "source": [
    "List=['mountains','rivers','countries','cities','languages']\n",
    "List.sort()\n",
    "print('First Function',List)\n",
    "List.append('rivers')\n",
    "print('Second Function',List)\n",
    "l1=List.copy()\n",
    "print('Third Function',l1)\n",
    "print('Fourth Function',List.count('rivers'))\n",
    "l2=['somthing','anything']\n",
    "List.extend(l2)\n",
    "print('Fifth Function',List)\n",
    "print('Sixth Function',List.index('rivers'))\n",
    "List.insert(5,'rivers')\n",
    "print('Seventh Function',List)\n",
    "l3=List.pop(5)\n",
    "print('Eighth Function',List,l3)\n",
    "List.remove('rivers')\n",
    "print('Ninth Function',List)\n",
    "print('Tenth Function',List.__sizeof__())\n",
    "print('Eleventh Function',List.__len__())\n",
    "List.clear()\n",
    "print('Twelfth Function',List)"
   ]
  },
  {
   "cell_type": "markdown",
   "metadata": {},
   "source": [
    "Ex 3-10"
   ]
  },
  {
   "cell_type": "code",
   "execution_count": null,
   "metadata": {},
   "outputs": [
    {
     "name": "stdout",
     "output_type": "stream",
     "text": [
      "['New York', 'Tokyo', 'Paris', 'London', 'err']\n"
     ]
    }
   ],
   "source": [
    "cities = ['New York','Tokyo','Paris','London','Sydney']\n",
    "#cities[5]='err'  \n",
    "cities[4]='err'  \n",
    "print(cities)\n"
   ]
  }
 ],
 "metadata": {
  "kernelspec": {
   "display_name": "Python 3",
   "language": "python",
   "name": "python3"
  },
  "language_info": {
   "codemirror_mode": {
    "name": "ipython",
    "version": 3
   },
   "file_extension": ".py",
   "mimetype": "text/x-python",
   "name": "python",
   "nbconvert_exporter": "python",
   "pygments_lexer": "ipython3",
   "version": "3.11.5"
  }
 },
 "nbformat": 4,
 "nbformat_minor": 2
}
