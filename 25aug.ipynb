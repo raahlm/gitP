{
 "cells": [
  {
   "cell_type": "code",
   "execution_count": 15,
   "metadata": {},
   "outputs": [
    {
     "name": "stdout",
     "output_type": "stream",
     "text": [
      "15\n"
     ]
    }
   ],
   "source": [
    "inputs=[]\n",
    "sum=0\n",
    "no_of_inputs=int(input('Enter number of inputs'))\n",
    "for x in range(no_of_inputs):\n",
    "    inputs.append(int(input(f'ENter input # {x+1}')))\n",
    "for i in inputs:\n",
    "    sum+=i\n",
    "print(f'total sum is {sum} ')\n"
   ]
  },
  {
   "cell_type": "code",
   "execution_count": 16,
   "metadata": {},
   "outputs": [
    {
     "name": "stdout",
     "output_type": "stream",
     "text": [
      "My fav animal is also you\n"
     ]
    }
   ],
   "source": [
    "user=input('Whats your fav animal: ')\n",
    "print(f'My fav animal is also {user}')"
   ]
  },
  {
   "cell_type": "code",
   "execution_count": 25,
   "metadata": {},
   "outputs": [
    {
     "name": "stdout",
     "output_type": "stream",
     "text": [
      "Temperature: 24.4443F = 75.99974\n"
     ]
    }
   ],
   "source": [
    "option=input('Do you wanna enter in celsius or Fahrenheit: ').strip().lower()\n",
    "if option[0:3]=='fah':\n",
    "    temp=float(input('Enter temperature in Fahrenheit: '))\n",
    "    print(f'Temperature: {temp}F = {(temp-32)*5.0/9.0}')\n",
    "elif option[0:3]=='cel':\n",
    "    temp=float(input('Enter temperature in Fahrenheit: '))\n",
    "    print(f'Temperature: {temp}F = {(temp*9.0/5.0)+32}')\n",
    "\n",
    "   "
   ]
  },
  {
   "cell_type": "code",
   "execution_count": null,
   "metadata": {},
   "outputs": [],
   "source": []
  }
 ],
 "metadata": {
  "kernelspec": {
   "display_name": "Python 3",
   "language": "python",
   "name": "python3"
  },
  "language_info": {
   "codemirror_mode": {
    "name": "ipython",
    "version": 3
   },
   "file_extension": ".py",
   "mimetype": "text/x-python",
   "name": "python",
   "nbconvert_exporter": "python",
   "pygments_lexer": "ipython3",
   "version": "3.11.5"
  }
 },
 "nbformat": 4,
 "nbformat_minor": 2
}
